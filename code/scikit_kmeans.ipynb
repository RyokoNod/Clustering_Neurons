{
 "cells": [
  {
   "cell_type": "markdown",
   "metadata": {},
   "source": [
    "# Try k-means on the data shown in figure 1c"
   ]
  },
  {
   "cell_type": "markdown",
   "metadata": {},
   "source": [
    "1. dataset - do the same sets as Scala et al.'s article. First use Yao et al.'s UMI counts, then use Scala et al.'s exon/intron counts\n",
    "2. will try to do raw data, PCA version, and t-SNE version\n",
    "3. parameter tuning: number of clusters, PCA dimensions, t-SNE dimensions\n",
    "4. evaluation method: adjusted rand index, normalized mutual information, homogeneity, completeness and V-measure, Fowlkes-Mallows"
   ]
  },
  {
   "cell_type": "code",
   "execution_count": 8,
   "metadata": {},
   "outputs": [],
   "source": [
    "import pickle\n",
    "from collections import namedtuple\n",
    "import numpy as np\n",
    "#from scipy import sparse\n",
    "from preprocess_figdata import preprocess_figure_data\n",
    "import os.path"
   ]
  },
  {
   "cell_type": "code",
   "execution_count": 5,
   "metadata": {},
   "outputs": [],
   "source": [
    "# load Yao et al.'s dataset for the Vip/Lamp5 cells\n",
    "m1data = pickle.load(open('../data/processed/reduced-allen-data/10X_cells_v2_AIBS.pickle', 'rb'))[\"viplamp\"]\n",
    "\n",
    "# load the study results of Scala et al.\n",
    "houstonData = namedtuple('houstonData', 'exonCounts intronCounts cells genes layers cre yields traced \\\n",
    "                                         depth thickness ephys ephysNames exclude \\\n",
    "                                         mice_ages mice_cres morphometrics morphometricsNames zProfiles \\\n",
    "                                         exonLengths intronLengths')\n",
    "m1 = pickle.load(open('../data/processed/rnaseq/m1.pickle', 'rb'))\n",
    "\n",
    "#load transcriptomic type assignment from Scala et al.\n",
    "ttypes = pickle.load(open('../data/processed/rnaseq/ttypes.pickle', 'rb'))\n",
    "subset = np.isin(ttypes['family'], ['Lamp5', 'Vip']) #mask to get vip/lamp5 cell info from m1\n",
    "\n",
    "# load t-SNE representations of Yao et al.'s Vip/Lamp5 cells\n",
    "Z = pickle.load(open('../data/processed/rnaseq/10x-tsne-viplamp.pickle', 'rb')) "
   ]
  },
  {
   "cell_type": "code",
   "execution_count": 10,
   "metadata": {},
   "outputs": [],
   "source": [
    "# if the datasets are not preprocessed and put into pickle files yet, do it now\n",
    "UMIcnt_path = \"../data/clustering_datasets/viplamp_umi.pickle\"\n",
    "exintex_path = \"../data/clustering_datasets/viplamp_exint.pickle\"\n",
    "\n",
    "if (os.path.isfile(UMIcnt_path)==False) and (os.path.isfile(exintex_path)==False):\n",
    "    preprocess_figure_data(m1data['counts'], m1data['genes'], m1.exonCounts[subset,:], m1.intronCounts[subset,:], \n",
    "                    m1.genes, m1.exonLengths, m1.intronLengths, UMI_fname=UMIcnt_path, \n",
    "                    exint_fname=exintex_path)"
   ]
  },
  {
   "cell_type": "code",
   "execution_count": null,
   "metadata": {},
   "outputs": [],
   "source": []
  }
 ],
 "metadata": {
  "kernelspec": {
   "display_name": "Python 3",
   "language": "python",
   "name": "python3"
  },
  "language_info": {
   "codemirror_mode": {
    "name": "ipython",
    "version": 3
   },
   "file_extension": ".py",
   "mimetype": "text/x-python",
   "name": "python",
   "nbconvert_exporter": "python",
   "pygments_lexer": "ipython3",
   "version": "3.8.3"
  }
 },
 "nbformat": 4,
 "nbformat_minor": 4
}
